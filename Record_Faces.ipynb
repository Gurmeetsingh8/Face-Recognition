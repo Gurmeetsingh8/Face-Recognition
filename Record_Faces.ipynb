{
 "cells": [
  {
   "cell_type": "code",
   "execution_count": 2,
   "metadata": {},
   "outputs": [],
   "source": [
    "import numpy as np\n",
    "import cv2\n",
    "cam=cv2.VideoCapture(0)\n",
    "\n",
    "# instantiate a camera object to capture images\n",
    "\n",
    "face_cas=cv2.CascadeClassifier('./haarcascade_frontalface_default.xml')\n",
    "# cascade classifier is used to recognition of faces from a video\n",
    "#we gonna make to a list in  which we will insert all faces"
   ]
  },
  {
   "cell_type": "code",
   "execution_count": 4,
   "metadata": {},
   "outputs": [
    {
     "name": "stdout",
     "output_type": "stream",
     "text": [
      "(40, 50, 50, 3)\n"
     ]
    }
   ],
   "source": [
    "data=[]\n",
    "ix=0 # current frame number\n",
    "while True:\n",
    "    ret,frame=cam.read()\n",
    "    #if camera working alright ret will be true otherwise false\n",
    "    #cam.read() will ggive 2 values\n",
    "    # frame contain input frame as numpy matrix\n",
    "    #Open cv mostly function for facedetection usually work on gray scale images\n",
    "    if ret==True:\n",
    "        gray=cv2.cvtColor(frame,cv2.COLOR_BGR2GRAY)\n",
    "        #CONVERT A BGR IMAGE TO GRAY SCALE IMAGE(IT RETURN GRAY SCALE MATRIX)\n",
    "        #NOW WE GONNA APPLY A FACEDETECTION ON THIS GRAY SCALE IMAGE\n",
    "        faces=face_cas.detectMultiScale(gray,1.3,5)\n",
    "        # apply the haar cascade to detect faces in the current frame\n",
    "\t\t# the other parameters 1.3 and 5 are fine tuning parameters\n",
    "\t\t# for the haar cascade object\n",
    "        # it will return an object which contain location of image\n",
    "        # it will give x,y,w,h\n",
    "        for (x,y,w,h) in faces:\n",
    "            face_component=frame[y:y+h,x:x+w,:]\n",
    "        #3rd colon represent R,G and B because every emage 720 p=720*800*3\n",
    "            fc=cv2.resize(face_component,(50,50))\n",
    "            \n",
    "            if x%10==0 and len(data)<40:\n",
    "                data.append(fc)\n",
    "            #every 10 frame we will capture a image and after 20 image we will stop\n",
    "            # for visualization, draw a rectangle around the face\n",
    "\t\t\t# in the image\n",
    "            cv2.rectangle(frame,(x,y),(x+w,y+h),(0,255,0),2)\n",
    "        ix+=1 \t# increment the current frame number\n",
    "        cv2.imshow('frame',frame)\n",
    "        #image will show on different window called frame\n",
    "        if cv2.waitKey(1)==27 or len(data)>=40:\n",
    "        # waitKey it will wait for input\n",
    "        #waitKey(1) in every 1 millisecond\n",
    "        # if input id 27 which is escape then function will break\n",
    "            break\n",
    "    else:\n",
    "        print(\"error\")\n",
    "\n",
    "cv2.destroyAllWindows()\n",
    "# now we destroy the windows we have created\n",
    "\n",
    "data=np.asarray(data)\n",
    "\n",
    "# convert the data to a numpy format\n",
    "\n",
    "print(data.shape)\n",
    "# print the shape as a sanity-check\n",
    "\n",
    "np.save('face_02',data)\n",
    "# save the data as a numpy matrix in an encoded format\n",
    "# We'll run the script for different people and store\n",
    "# the data into multiple files"
   ]
  },
  {
   "cell_type": "code",
   "execution_count": null,
   "metadata": {},
   "outputs": [],
   "source": []
  }
 ],
 "metadata": {
  "kernelspec": {
   "display_name": "Python 3",
   "language": "python",
   "name": "python3"
  },
  "language_info": {
   "codemirror_mode": {
    "name": "ipython",
    "version": 3
   },
   "file_extension": ".py",
   "mimetype": "text/x-python",
   "name": "python",
   "nbconvert_exporter": "python",
   "pygments_lexer": "ipython3",
   "version": "3.6.5"
  }
 },
 "nbformat": 4,
 "nbformat_minor": 2
}
