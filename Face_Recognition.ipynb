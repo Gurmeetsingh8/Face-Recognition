{
 "cells": [
  {
   "cell_type": "code",
   "execution_count": 1,
   "metadata": {},
   "outputs": [
    {
     "name": "stdout",
     "output_type": "stream",
     "text": [
      "(40, 7500)\n",
      "(40, 1) (40, 7500)\n"
     ]
    }
   ],
   "source": [
    "import numpy as np\n",
    "import cv2\n",
    "cam=cv2.VideoCapture(0)\n",
    "\n",
    "# instantiate a camera object to capture images\n",
    "\n",
    "face_cas=cv2.CascadeClassifier('./haarcascade_frontalface_default.xml')\n",
    "#declare type of font\n",
    "font=cv2.FONT_HERSHEY_SIMPLEX\n",
    "f_01=np.load('face_02.npy').reshape((40,50*50*3))\n",
    "\n",
    "\n",
    "# load the data from the numpy matrices and convert to linear vectors\n",
    "\n",
    "\n",
    "print(f_01.shape)\n",
    "#print(f_01)\n",
    "# create a look-up dictionary\n",
    "names={0: 'Guri'}\n",
    "labels=np.zeros((40,1))\n",
    "labels[:40,:]=0.0\n",
    "data=np.concatenate([f_01])\n",
    "print(labels.shape,data.shape)\n",
    "#there are 20 matrixes and each of shap is 50*50*3"
   ]
  },
  {
   "cell_type": "code",
   "execution_count": 2,
   "metadata": {},
   "outputs": [],
   "source": [
    "# the distance and knn functions \n",
    "def distance(x1, x2):\n",
    "    return np.sqrt(((x1-x2)**2).sum())\n",
    "\n",
    "def knn(x, train, targets, k=5):\n",
    "    m = train.shape[0]\n",
    "    dist = []\n",
    "    for ix in range(m):\n",
    "        # compute distance from each point and store in dist\n",
    "        dist.append(distance(x, train[ix]))\n",
    "    dist = np.asarray(dist)\n",
    "    indx = np.argsort(dist)\n",
    "    sorted_labels = labels[indx][:k]\n",
    "    counts = np.unique(sorted_labels, return_counts=True)\n",
    "    return counts[0][np.argmax(counts[1])]\n"
   ]
  },
  {
   "cell_type": "code",
   "execution_count": 6,
   "metadata": {},
   "outputs": [],
   "source": [
    "while True:\n",
    "\t# get each frame\n",
    "\tret, frame = cam.read()\n",
    "\n",
    "\tif ret == True:\n",
    "\t\t# convert to grayscale and get faces\n",
    "\t\tgray = cv2.cvtColor(frame, cv2.COLOR_BGR2GRAY)\n",
    "\t\tfaces = face_cas.detectMultiScale(gray, 1.3, 5)\n",
    "\n",
    "\t\t# for each face\n",
    "\t\tfor (x, y, w, h) in faces:\n",
    "\t\t\tface_component = frame[y:y+h, x:x+w, :]\n",
    "\t\t\tfc = cv2.resize(face_component, (50, 50))\n",
    "\n",
    "\t\t\t# after processing the image and rescaling\n",
    "\t\t\t# convert to linear vector using .flatten()\n",
    "\t\t\t# and pass to knn function along with all the data\n",
    "\n",
    "\t\t\tlab = knn(fc.flatten(), data, labels)\n",
    "\t\t\t# convert this label to int and get the corresponding name\n",
    "\t\t\ttext = names[int(lab)]\n",
    "\n",
    "\t\t\t# display the name\n",
    "\t\t\tcv2.putText(frame, text, (x, y-9), font, 1, (0, 255,255), 2)\n",
    "\n",
    "\t\t\t# draw a rectangle over the face\n",
    "\t\t\tcv2.rectangle(frame, (x, y), (x+w, y+h), (100, 0, 255), 2)\n",
    "\t\tcv2.imshow('face recognition', frame)\n",
    "\n",
    "\t\tif cv2.waitKey(1) == 27:\n",
    "\t\t\tbreak\n",
    "\telse:\n",
    "\t\tprint ('Error')\n",
    "\n",
    "cv2.destroyAllWindows()\n",
    "# Some times of lightning and distance from camera it shows wrong name\n",
    "# To improve that we should take more data\n",
    "\n",
    "        \n",
    "            "
   ]
  },
  {
   "cell_type": "code",
   "execution_count": null,
   "metadata": {},
   "outputs": [],
   "source": []
  }
 ],
 "metadata": {
  "kernelspec": {
   "display_name": "Python 3",
   "language": "python",
   "name": "python3"
  },
  "language_info": {
   "codemirror_mode": {
    "name": "ipython",
    "version": 3
   },
   "file_extension": ".py",
   "mimetype": "text/x-python",
   "name": "python",
   "nbconvert_exporter": "python",
   "pygments_lexer": "ipython3",
   "version": "3.6.5"
  }
 },
 "nbformat": 4,
 "nbformat_minor": 2
}
